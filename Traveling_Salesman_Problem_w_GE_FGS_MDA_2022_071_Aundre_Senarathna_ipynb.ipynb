{
  "cells": [
    {
      "cell_type": "markdown",
      "metadata": {
        "id": "6PtnnEnNhyol"
      },
      "source": [
        "# **Traveling Salesman Problem**\n"
      ]
    },
    {
      "cell_type": "markdown",
      "metadata": {
        "id": "ud_T-U6lh6K0"
      },
      "source": [
        "**Objective:**\n",
        "\n",
        "\n",
        "*   Find the optimal route (shortest possible route that visits each city and returns to the origin city)\n",
        "\n",
        "**Requirements:**\n",
        "\n",
        "\n",
        "*   We need to visit all locations\n",
        "*   We need to return to the origin location\n",
        "*   We only have one vehicle"
      ]
    },
    {
      "cell_type": "markdown",
      "metadata": {
        "id": "DZllKtlEiFoh"
      },
      "source": [
        "**Importing the necessary libraries**"
      ]
    },
    {
      "cell_type": "code",
      "execution_count": null,
      "metadata": {
        "id": "ngmBnR7Eh_5n"
      },
      "outputs": [],
      "source": [
        "import numpy as np\n",
        "import random"
      ]
    },
    {
      "cell_type": "markdown",
      "metadata": {
        "id": "68BsLTfPiPGK"
      },
      "source": [
        "**Setting the parameters**"
      ]
    },
    {
      "cell_type": "code",
      "execution_count": null,
      "metadata": {
        "id": "cvLce9gYiML-"
      },
      "outputs": [],
      "source": [
        "n_cities = 7 #The number of cities\n",
        "\n",
        "n_population = 100 #population size\n",
        "\n",
        "mutation_rate = 0.3 #30% mutation rate"
      ]
    },
    {
      "cell_type": "markdown",
      "metadata": {
        "id": "S-KJRS75icPS"
      },
      "source": [
        "Generating a list of coordenades representing each city"
      ]
    },
    {
      "cell_type": "code",
      "execution_count": null,
      "metadata": {
        "colab": {
          "base_uri": "https://localhost:8080/"
        },
        "id": "RM98Jch2id-n",
        "outputId": "467647bf-0d16-49b4-b9a5-b142a4d35ed8"
      },
      "outputs": [
        {
          "data": {
            "text/plain": [
              "{'City_A': [31, 6],\n",
              " 'City_B': [1, 36],\n",
              " 'City_C': [9, 24],\n",
              " 'City_D': [59, 15],\n",
              " 'City_E': [52, 9],\n",
              " 'City_F': [75, 46],\n",
              " 'City_G': [27, 84]}"
            ]
          },
          "execution_count": 3,
          "metadata": {},
          "output_type": "execute_result"
        }
      ],
      "source": [
        "#Creating 7(size of n_cities) pairs of random x, y coordinates ranging from 0 to 100, using the randint function in numpy, and grouping each pair using the zip function\n",
        "cordinates_lst = [[x,y] for x, y in zip(np.random.randint(0,100,n_cities),np.random.randint(0,100,n_cities))]\n",
        "\n",
        "#Creating a list of 7 cities using the array function of numpy which facilitates advanced mathematical and other types of operations\n",
        "names_lst = np.array([\"City_A\",\"City_B\",\"City_C\",\"City_D\",\"City_E\",\"City_F\",\"City_G\"])\n",
        "\n",
        "#Creating a cities dictionary using the zip function, which helps to assign the above randomly created coordinates with a city\n",
        "cities_dict = { x:y for x,y in zip(names_lst,cordinates_lst)}\n",
        "cities_dict"
      ]
    },
    {
      "cell_type": "markdown",
      "metadata": {
        "id": "u-tF7TrWitvb"
      },
      "source": [
        "**Functions to compute the distance between two points (2 cities)**"
      ]
    },
    {
      "cell_type": "code",
      "execution_count": null,
      "metadata": {
        "id": "kVz-JtD3ikX6"
      },
      "outputs": [],
      "source": [
        "#Creating a function to calculate the distance between 2 variables called “CalcDist”\n",
        "def CalcDist(a, b):\n",
        "  return ((a[0]-b[0])**2+(a[1]-b[1])**2)**0.5\n",
        "\n",
        "#CityNamesCalcDist – This function will utilize the “CalcDist”, to calculate the distance between 2 cities from the cities dictionary, by indexing the city name to get their associated coordinates\n",
        "def CityNamesCalcDist(city_a, city_b, cities_dict):\n",
        "  return CalcDist(cities_dict[city_a], cities_dict[city_b])"
      ]
    },
    {
      "cell_type": "markdown",
      "metadata": {
        "id": "EVWhmuO1jCQz"
      },
      "source": [
        "**Creating the first population set**\n",
        "\n",
        "This function (InitialPop), will take in the list of cities and the population size as it’s parameters.\n",
        "\n",
        "A “for” loop is used to iterate against the range of the size of population, which will enable us to get 100 (population size) combinations of solutions.\n",
        "\n",
        "“sol_i”, will pick a city in random using the “np.random.choice” function, by indexing within the range of “n_cities”(no. of cities) to get a random city from the city list (city_lst), which will be stored in a list using the “list” function, which consists of 7 variables (n_cities), next the “replace” parameter is set at “False”, so that no city will be repeated in a particular combination of solutions.\n",
        "\n",
        "Next, the combinations will be appended to the “population_set” list using the append function, which will be returned by this function.\n",
        "\n"
      ]
    },
    {
      "cell_type": "code",
      "execution_count": null,
      "metadata": {
        "colab": {
          "base_uri": "https://localhost:8080/"
        },
        "id": "jGYFkEbEi8IU",
        "outputId": "c6aba7bb-d3b7-4512-9109-8d7f6d8c4ef8"
      },
      "outputs": [
        {
          "data": {
            "text/plain": [
              "array([['City_D', 'City_B', 'City_F', 'City_E', 'City_G', 'City_C',\n",
              "        'City_A'],\n",
              "       ['City_F', 'City_G', 'City_C', 'City_B', 'City_D', 'City_A',\n",
              "        'City_E'],\n",
              "       ['City_A', 'City_B', 'City_F', 'City_G', 'City_C', 'City_D',\n",
              "        'City_E'],\n",
              "       ['City_A', 'City_C', 'City_F', 'City_G', 'City_E', 'City_B',\n",
              "        'City_D'],\n",
              "       ['City_F', 'City_C', 'City_B', 'City_E', 'City_A', 'City_G',\n",
              "        'City_D'],\n",
              "       ['City_D', 'City_G', 'City_B', 'City_E', 'City_F', 'City_C',\n",
              "        'City_A'],\n",
              "       ['City_F', 'City_C', 'City_A', 'City_E', 'City_D', 'City_B',\n",
              "        'City_G'],\n",
              "       ['City_E', 'City_D', 'City_C', 'City_F', 'City_B', 'City_G',\n",
              "        'City_A'],\n",
              "       ['City_D', 'City_E', 'City_B', 'City_A', 'City_G', 'City_C',\n",
              "        'City_F'],\n",
              "       ['City_A', 'City_G', 'City_B', 'City_D', 'City_E', 'City_F',\n",
              "        'City_C'],\n",
              "       ['City_A', 'City_F', 'City_D', 'City_B', 'City_G', 'City_E',\n",
              "        'City_C'],\n",
              "       ['City_G', 'City_E', 'City_D', 'City_B', 'City_F', 'City_C',\n",
              "        'City_A'],\n",
              "       ['City_A', 'City_D', 'City_E', 'City_B', 'City_F', 'City_G',\n",
              "        'City_C'],\n",
              "       ['City_F', 'City_B', 'City_C', 'City_D', 'City_G', 'City_A',\n",
              "        'City_E'],\n",
              "       ['City_B', 'City_F', 'City_A', 'City_D', 'City_E', 'City_G',\n",
              "        'City_C'],\n",
              "       ['City_A', 'City_F', 'City_D', 'City_C', 'City_E', 'City_B',\n",
              "        'City_G'],\n",
              "       ['City_C', 'City_F', 'City_D', 'City_G', 'City_B', 'City_E',\n",
              "        'City_A'],\n",
              "       ['City_B', 'City_G', 'City_D', 'City_E', 'City_F', 'City_A',\n",
              "        'City_C'],\n",
              "       ['City_F', 'City_B', 'City_G', 'City_D', 'City_E', 'City_C',\n",
              "        'City_A'],\n",
              "       ['City_A', 'City_C', 'City_G', 'City_D', 'City_F', 'City_E',\n",
              "        'City_B'],\n",
              "       ['City_C', 'City_B', 'City_F', 'City_D', 'City_E', 'City_A',\n",
              "        'City_G'],\n",
              "       ['City_F', 'City_G', 'City_D', 'City_B', 'City_C', 'City_E',\n",
              "        'City_A'],\n",
              "       ['City_D', 'City_C', 'City_B', 'City_E', 'City_A', 'City_F',\n",
              "        'City_G'],\n",
              "       ['City_C', 'City_D', 'City_G', 'City_E', 'City_F', 'City_B',\n",
              "        'City_A'],\n",
              "       ['City_F', 'City_A', 'City_E', 'City_B', 'City_C', 'City_D',\n",
              "        'City_G'],\n",
              "       ['City_D', 'City_C', 'City_A', 'City_G', 'City_B', 'City_F',\n",
              "        'City_E'],\n",
              "       ['City_G', 'City_E', 'City_D', 'City_F', 'City_C', 'City_B',\n",
              "        'City_A'],\n",
              "       ['City_F', 'City_G', 'City_A', 'City_D', 'City_B', 'City_E',\n",
              "        'City_C'],\n",
              "       ['City_G', 'City_E', 'City_C', 'City_A', 'City_F', 'City_D',\n",
              "        'City_B'],\n",
              "       ['City_C', 'City_G', 'City_E', 'City_F', 'City_A', 'City_B',\n",
              "        'City_D'],\n",
              "       ['City_A', 'City_C', 'City_D', 'City_F', 'City_B', 'City_G',\n",
              "        'City_E'],\n",
              "       ['City_F', 'City_G', 'City_D', 'City_C', 'City_B', 'City_E',\n",
              "        'City_A'],\n",
              "       ['City_G', 'City_A', 'City_C', 'City_B', 'City_D', 'City_F',\n",
              "        'City_E'],\n",
              "       ['City_E', 'City_C', 'City_G', 'City_F', 'City_B', 'City_A',\n",
              "        'City_D'],\n",
              "       ['City_E', 'City_G', 'City_A', 'City_D', 'City_B', 'City_F',\n",
              "        'City_C'],\n",
              "       ['City_G', 'City_B', 'City_A', 'City_C', 'City_D', 'City_F',\n",
              "        'City_E'],\n",
              "       ['City_A', 'City_B', 'City_G', 'City_F', 'City_D', 'City_C',\n",
              "        'City_E'],\n",
              "       ['City_B', 'City_G', 'City_F', 'City_C', 'City_E', 'City_A',\n",
              "        'City_D'],\n",
              "       ['City_A', 'City_B', 'City_D', 'City_C', 'City_G', 'City_F',\n",
              "        'City_E'],\n",
              "       ['City_A', 'City_E', 'City_C', 'City_F', 'City_B', 'City_G',\n",
              "        'City_D'],\n",
              "       ['City_G', 'City_C', 'City_D', 'City_A', 'City_E', 'City_B',\n",
              "        'City_F'],\n",
              "       ['City_C', 'City_F', 'City_D', 'City_B', 'City_E', 'City_A',\n",
              "        'City_G'],\n",
              "       ['City_C', 'City_F', 'City_D', 'City_B', 'City_A', 'City_G',\n",
              "        'City_E'],\n",
              "       ['City_G', 'City_A', 'City_D', 'City_F', 'City_E', 'City_C',\n",
              "        'City_B'],\n",
              "       ['City_A', 'City_F', 'City_G', 'City_D', 'City_C', 'City_B',\n",
              "        'City_E'],\n",
              "       ['City_G', 'City_B', 'City_A', 'City_D', 'City_E', 'City_F',\n",
              "        'City_C'],\n",
              "       ['City_E', 'City_B', 'City_C', 'City_D', 'City_F', 'City_G',\n",
              "        'City_A'],\n",
              "       ['City_G', 'City_E', 'City_A', 'City_F', 'City_D', 'City_C',\n",
              "        'City_B'],\n",
              "       ['City_B', 'City_A', 'City_D', 'City_E', 'City_G', 'City_C',\n",
              "        'City_F'],\n",
              "       ['City_E', 'City_G', 'City_B', 'City_C', 'City_F', 'City_D',\n",
              "        'City_A'],\n",
              "       ['City_C', 'City_A', 'City_D', 'City_E', 'City_F', 'City_B',\n",
              "        'City_G'],\n",
              "       ['City_A', 'City_B', 'City_F', 'City_D', 'City_C', 'City_G',\n",
              "        'City_E'],\n",
              "       ['City_E', 'City_G', 'City_A', 'City_D', 'City_C', 'City_F',\n",
              "        'City_B'],\n",
              "       ['City_G', 'City_E', 'City_F', 'City_C', 'City_A', 'City_D',\n",
              "        'City_B'],\n",
              "       ['City_A', 'City_F', 'City_B', 'City_D', 'City_G', 'City_C',\n",
              "        'City_E'],\n",
              "       ['City_C', 'City_G', 'City_A', 'City_D', 'City_F', 'City_B',\n",
              "        'City_E'],\n",
              "       ['City_E', 'City_C', 'City_G', 'City_A', 'City_D', 'City_B',\n",
              "        'City_F'],\n",
              "       ['City_G', 'City_C', 'City_B', 'City_D', 'City_A', 'City_F',\n",
              "        'City_E'],\n",
              "       ['City_F', 'City_B', 'City_G', 'City_D', 'City_A', 'City_E',\n",
              "        'City_C'],\n",
              "       ['City_C', 'City_G', 'City_E', 'City_B', 'City_A', 'City_D',\n",
              "        'City_F'],\n",
              "       ['City_A', 'City_G', 'City_D', 'City_B', 'City_C', 'City_F',\n",
              "        'City_E'],\n",
              "       ['City_B', 'City_A', 'City_G', 'City_C', 'City_E', 'City_D',\n",
              "        'City_F'],\n",
              "       ['City_D', 'City_E', 'City_G', 'City_F', 'City_A', 'City_B',\n",
              "        'City_C'],\n",
              "       ['City_E', 'City_F', 'City_B', 'City_D', 'City_C', 'City_A',\n",
              "        'City_G'],\n",
              "       ['City_E', 'City_F', 'City_B', 'City_C', 'City_D', 'City_G',\n",
              "        'City_A'],\n",
              "       ['City_A', 'City_C', 'City_E', 'City_D', 'City_G', 'City_B',\n",
              "        'City_F'],\n",
              "       ['City_G', 'City_C', 'City_D', 'City_E', 'City_F', 'City_B',\n",
              "        'City_A'],\n",
              "       ['City_A', 'City_B', 'City_E', 'City_F', 'City_C', 'City_G',\n",
              "        'City_D'],\n",
              "       ['City_E', 'City_B', 'City_D', 'City_A', 'City_F', 'City_C',\n",
              "        'City_G'],\n",
              "       ['City_B', 'City_E', 'City_C', 'City_G', 'City_D', 'City_F',\n",
              "        'City_A'],\n",
              "       ['City_B', 'City_G', 'City_F', 'City_C', 'City_D', 'City_E',\n",
              "        'City_A'],\n",
              "       ['City_C', 'City_F', 'City_B', 'City_E', 'City_G', 'City_D',\n",
              "        'City_A'],\n",
              "       ['City_G', 'City_C', 'City_F', 'City_D', 'City_E', 'City_B',\n",
              "        'City_A'],\n",
              "       ['City_A', 'City_E', 'City_G', 'City_F', 'City_C', 'City_B',\n",
              "        'City_D'],\n",
              "       ['City_B', 'City_G', 'City_E', 'City_D', 'City_A', 'City_F',\n",
              "        'City_C'],\n",
              "       ['City_E', 'City_D', 'City_G', 'City_F', 'City_A', 'City_B',\n",
              "        'City_C'],\n",
              "       ['City_G', 'City_F', 'City_B', 'City_C', 'City_E', 'City_A',\n",
              "        'City_D'],\n",
              "       ['City_C', 'City_G', 'City_E', 'City_B', 'City_A', 'City_D',\n",
              "        'City_F'],\n",
              "       ['City_B', 'City_D', 'City_C', 'City_A', 'City_G', 'City_E',\n",
              "        'City_F'],\n",
              "       ['City_D', 'City_A', 'City_G', 'City_C', 'City_E', 'City_F',\n",
              "        'City_B'],\n",
              "       ['City_B', 'City_D', 'City_G', 'City_C', 'City_E', 'City_F',\n",
              "        'City_A'],\n",
              "       ['City_A', 'City_G', 'City_F', 'City_C', 'City_B', 'City_D',\n",
              "        'City_E'],\n",
              "       ['City_C', 'City_G', 'City_F', 'City_B', 'City_E', 'City_A',\n",
              "        'City_D'],\n",
              "       ['City_D', 'City_E', 'City_B', 'City_C', 'City_F', 'City_G',\n",
              "        'City_A'],\n",
              "       ['City_C', 'City_B', 'City_D', 'City_F', 'City_E', 'City_G',\n",
              "        'City_A'],\n",
              "       ['City_G', 'City_D', 'City_E', 'City_B', 'City_C', 'City_A',\n",
              "        'City_F'],\n",
              "       ['City_G', 'City_A', 'City_D', 'City_C', 'City_E', 'City_F',\n",
              "        'City_B'],\n",
              "       ['City_A', 'City_F', 'City_E', 'City_D', 'City_B', 'City_C',\n",
              "        'City_G'],\n",
              "       ['City_E', 'City_B', 'City_A', 'City_G', 'City_D', 'City_C',\n",
              "        'City_F'],\n",
              "       ['City_E', 'City_F', 'City_C', 'City_D', 'City_A', 'City_B',\n",
              "        'City_G'],\n",
              "       ['City_A', 'City_D', 'City_E', 'City_B', 'City_F', 'City_G',\n",
              "        'City_C'],\n",
              "       ['City_C', 'City_D', 'City_A', 'City_F', 'City_G', 'City_B',\n",
              "        'City_E'],\n",
              "       ['City_A', 'City_B', 'City_C', 'City_D', 'City_F', 'City_G',\n",
              "        'City_E'],\n",
              "       ['City_F', 'City_C', 'City_B', 'City_G', 'City_D', 'City_E',\n",
              "        'City_A'],\n",
              "       ['City_G', 'City_E', 'City_B', 'City_A', 'City_F', 'City_C',\n",
              "        'City_D'],\n",
              "       ['City_D', 'City_G', 'City_F', 'City_E', 'City_B', 'City_A',\n",
              "        'City_C'],\n",
              "       ['City_E', 'City_B', 'City_A', 'City_F', 'City_C', 'City_D',\n",
              "        'City_G'],\n",
              "       ['City_A', 'City_F', 'City_E', 'City_C', 'City_D', 'City_G',\n",
              "        'City_B'],\n",
              "       ['City_E', 'City_B', 'City_A', 'City_G', 'City_C', 'City_F',\n",
              "        'City_D'],\n",
              "       ['City_A', 'City_C', 'City_E', 'City_B', 'City_G', 'City_D',\n",
              "        'City_F']], dtype='<U6')"
            ]
          },
          "execution_count": 6,
          "metadata": {},
          "output_type": "execute_result"
        }
      ],
      "source": [
        "def InitialPop(city_lst, n_population):\n",
        "\n",
        "  population_set = []\n",
        "  for i in range(n_population):\n",
        "    #Randomly generating a new solution\n",
        "    sol_i = city_lst[np.random.choice(list(range(n_cities)), n_cities, replace = False)]\n",
        "    population_set.append(sol_i)\n",
        "  return np.array(population_set)\n",
        "\n",
        "#Calling the “InitialPop” function and assigning the “population_set” to the list created by the function\n",
        "population_set = InitialPop(names_lst, n_population)\n",
        "population_set"
      ]
    },
    {
      "cell_type": "markdown",
      "metadata": {
        "id": "YYgf5-gUzQXF"
      },
      "source": [
        "**Evaluate solutions fitness**\n",
        "\n",
        "The answers are specified such that the first item in the list corresponds to the first city to visit, followed by the second, third, etc., with the last city being connected to the first. The distance between subsequent cities is calculated by the fitness function.\n",
        "\n",
        "This function (Fitness), will take in the list of cities and the dictionary of cities (which contains the city name along with its coordinates) as it’s parameters.\n",
        "\n",
        "Next, a for loop will be used to loop across the range of “n_cities – 1 (i.e. 7-1)\n",
        "\n",
        "Two variables are created which will store the index number of “I” in “a” and i+1 in “b”, which helps in calculating the distance between the cities according to the order of each combination of solutions.\n",
        "\n",
        "Finally, the “CityNamesCalcDist” is called inside this function to calculate the distance of the index values of “a” and “b” for each combination of solutions in the cities dictionary, and the distance of each combination will be added and stored in the variable named “total”\n"
      ]
    },
    {
      "cell_type": "code",
      "execution_count": null,
      "metadata": {
        "id": "REQKn5n8kO8P"
      },
      "outputs": [],
      "source": [
        "def Fitness(city_lst, cities_dict):\n",
        "  total = 0\n",
        "  for i in range(n_cities-1):\n",
        "    a = city_lst[i]\n",
        "    b = city_lst[i+1]\n",
        "    total += CityNamesCalcDist(a, b, cities_dict)\n",
        "  return total"
      ]
    },
    {
      "cell_type": "markdown",
      "metadata": {
        "id": "U3WFlH8g7ScT"
      },
      "source": [
        "This function (GetAllFitness), will take in the “population_set” (this is the list of the initial population, which contains 100 combinations) and the “cities_dict” (which contains the city name along with its coordinates) as it’s parameters.  \n",
        "\n",
        "Next, a list of zeros (100, which is the size of “n_population”), is created using the “np.zeros” function, under the list named “fitness_lst”\n",
        "\n",
        "Finally, a loop is used to loop over all solutions computing the fitness for each solution by calling the “Fitness” function, and replacing each zero, with each combination’s total fitness\n"
      ]
    },
    {
      "cell_type": "code",
      "execution_count": null,
      "metadata": {
        "id": "SI3i7F0u3ciF"
      },
      "outputs": [],
      "source": [
        "def GetAllFitness(population_set, cities_dict):\n",
        "  fitness_lst = np.zeros(n_population)\n",
        "\n",
        "  #Looping over all solutions computing the fitness for each solution\n",
        "  for i in range(n_population):\n",
        "    fitness_lst[i] = Fitness(population_set[i], cities_dict)\n",
        "\n",
        "  return fitness_lst"
      ]
    },
    {
      "cell_type": "code",
      "execution_count": null,
      "metadata": {
        "colab": {
          "base_uri": "https://localhost:8080/"
        },
        "id": "HePDNyai6CaE",
        "outputId": "5ff23862-8237-480e-8d6c-f32f395e4647"
      },
      "outputs": [
        {
          "data": {
            "text/plain": [
              "array([307.23531605, 305.58494757, 306.87346461, 304.65144433,\n",
              "       295.1545891 , 266.84836407, 333.15934571, 270.51153087,\n",
              "       309.41455719, 305.64930069, 302.85487095, 323.38768082,\n",
              "       270.25236083, 304.82343328, 302.32374096, 272.26780231,\n",
              "       314.68718757, 319.42313996, 265.27885791, 344.69083266,\n",
              "       312.29006727, 303.0572542 , 288.91265674, 316.2715244 ,\n",
              "       335.07373481, 242.56606695, 338.93109128, 251.63069006,\n",
              "       324.34392066, 331.56043386, 302.77339183, 329.40940911,\n",
              "       319.13359064, 195.0894948 , 267.38573153, 305.21557682,\n",
              "       264.49496041, 201.16875744, 328.55557264, 220.197024  ,\n",
              "       287.66188795, 332.4549932 , 338.89831087, 242.67515144,\n",
              "       304.20854588, 261.4311819 , 304.76512913, 355.49176143,\n",
              "       326.95854215, 270.38191188, 247.15865927, 330.93038859,\n",
              "       263.20571733, 302.16015466, 278.9230806 , 267.10219876,\n",
              "       242.65448088, 287.55589576, 227.93216077, 328.99668118,\n",
              "       304.7077447 , 323.44270782, 308.81163621, 294.28501387,\n",
              "       281.13005577, 265.27885791, 314.04527602, 295.00536083,\n",
              "       286.03871366, 309.63454195, 312.95272725, 268.09033972,\n",
              "       337.37667069, 309.44713019, 288.43926683, 315.55569147,\n",
              "       190.20059773, 328.99668118, 357.48798089, 203.56979081,\n",
              "       309.88083622, 306.90700431, 245.58540067, 273.6604712 ,\n",
              "       342.52400917, 333.69081195, 217.82657468, 339.74117755,\n",
              "       314.30027005, 247.9755201 , 270.25236083, 252.96482008,\n",
              "       329.86369897, 320.00438761, 301.01060372, 287.60053116,\n",
              "       307.75465899, 272.41867316, 294.05445837, 286.71467166])"
            ]
          },
          "execution_count": 9,
          "metadata": {},
          "output_type": "execute_result"
        }
      ],
      "source": [
        "#Creating a list (fitness_lst) containing all fitness vales for each combination of the initial population by calling the GetAllFitness” function.\n",
        "fitness_lst = GetAllFitness(population_set, cities_dict)\n",
        "fitness_lst"
      ]
    },
    {
      "cell_type": "markdown",
      "metadata": {
        "id": "P_arsnCI8GTx"
      },
      "source": [
        "**Parent selection**\n",
        "\n",
        "A new set of parents are selected using the Roulette Wheel Selection. Generates a list of parent pairs where N= len(population_set) but at each position there are two solutions to merge\n",
        "\n",
        "A function is created (ParentSelection), which takes the “population_set” (the list of the initial population, which contains 100 combinations) “fitness_lst” (containing all fitness vales for each combination of the initial population), as it’s parameters.\n",
        "\n",
        "total_fit = sums up the values from the “fitness_lst” using the “sum” function”\n",
        "prob_lst = a probability value is calculated by dividing each value in the “fitness_lst” by the value of “total_fit”\n",
        "\n",
        "2 lists of parents of 100 each are created for mating purposes (parent_lst_a, parent_lst_b), by choosing individuals in random from the “population_set” based on the probability from the “prob_lst”, i.e. solutions containing a higher probability have a higher chance of being selected.\n",
        "\n",
        "Next, each parent is stored under the lists of parents (parent_lst_a, parent_lst_b).\n"
      ]
    },
    {
      "cell_type": "code",
      "execution_count": null,
      "metadata": {
        "colab": {
          "base_uri": "https://localhost:8080/"
        },
        "id": "4vUVZtrE768o",
        "outputId": "b6d53455-153d-44d0-b053-0d1ec0504356"
      },
      "outputs": [
        {
          "data": {
            "text/plain": [
              "array(['City_C', 'City_A', 'City_D', 'City_E', 'City_F', 'City_B',\n",
              "       'City_G'], dtype='<U6')"
            ]
          },
          "execution_count": 10,
          "metadata": {},
          "output_type": "execute_result"
        }
      ],
      "source": [
        "def ParentSelection(population_set, fitness_lst):\n",
        "  total_fit = fitness_lst.sum()\n",
        "  prob_lst = fitness_lst/total_fit\n",
        "\n",
        "  #Notice there is the chance that a parent mates with oneself\n",
        "  parent_lst_a = np.random.choice(list(range(len(population_set))), len(population_set), p = prob_lst, replace = True)\n",
        "  parent_lst_b = np.random.choice(list(range(len(population_set))), len(population_set), p = prob_lst, replace = True)\n",
        "\n",
        "  parent_lst_a = population_set[parent_lst_a]\n",
        "  parent_lst_b = population_set[parent_lst_b]\n",
        "\n",
        "  return np.array([parent_lst_a, parent_lst_b])\n",
        "\n",
        "#A list is created as “parent_lst”, which will contain two lists of parents using the function “ParentSelection”\n",
        "parent_lst = ParentSelection(population_set, fitness_lst)\n",
        "parent_lst[0][0]"
      ]
    },
    {
      "cell_type": "markdown",
      "metadata": {
        "id": "t5NI233FALxi"
      },
      "source": [
        "**Crossover**\n",
        "\n",
        "For each pair of parents, we will produce a child. We will copy a random piece from one parent and fill in the blanks with the other parent as we cannot repeat cities.\n",
        "\n",
        "***CrossoverParents:***\n",
        "\n",
        "This function will take in 2 parameters (par_a, par_b) i.e. 2 parents and create a child which contains the first 4 cities from parent A (par_a) and the last 3 cities from parent B (par_b).\n",
        "\n",
        "Note: when filling in the last 3 cities from parent B, we make sure that no city is repeated in the child by the “if” condition “if not city in child”, and concatenate both portions from parent A and parent B using the “concatenate” function to create the child.\n",
        "\n",
        "***CrossoverPopulation:***\n",
        "\n",
        "This function will take the “parent_lst” (which contains the two lists of parents) as its parameter to create a new population generation by making each set of lists in the parent list to mate.\n",
        "\n",
        "This function will loop within a range of 100 indexes using the first list in the “parent_lst” by the “shape[1]” function.\n",
        "\n",
        "Then it will use the ith   index from each list of the parent list using variable names “par_a” and “par_b”, which will be passed in to the “CrossoverParents” function to create a child.\n",
        "\n",
        "Finally, each child will be appended to the “new_population_set” list using the “append” function\n"
      ]
    },
    {
      "cell_type": "code",
      "execution_count": null,
      "metadata": {
        "colab": {
          "base_uri": "https://localhost:8080/"
        },
        "id": "glhuB9-q_95F",
        "outputId": "0b760917-5725-47b1-854e-f3d46369ef1f"
      },
      "outputs": [
        {
          "data": {
            "text/plain": [
              "array(['City_C', 'City_A', 'City_D', 'City_E', 'City_F', 'City_B',\n",
              "       'City_G'], dtype='<U6')"
            ]
          },
          "execution_count": 11,
          "metadata": {},
          "output_type": "execute_result"
        }
      ],
      "source": [
        "def CrossoverParents(par_a, par_b):\n",
        "  child = par_a[0:4]\n",
        "  for city in par_b:\n",
        "    if not city in child:\n",
        "      child = np.concatenate((child,[city]))\n",
        "  return child\n",
        "\n",
        "def CrossoverPopulation(parent_lst):\n",
        "  new_population_set = []\n",
        "  for i in range(parent_lst.shape[1]):\n",
        "    par_a, par_b = parent_lst[0][i], parent_lst[0][i]\n",
        "    child = CrossoverParents(par_a, par_b)\n",
        "    new_population_set.append(child)\n",
        "  return new_population_set\n",
        "\n",
        "new_population_set = CrossoverPopulation(parent_lst)\n",
        "new_population_set[0]"
      ]
    },
    {
      "cell_type": "markdown",
      "metadata": {
        "id": "Pbq5MedTJHKs"
      },
      "source": [
        "**Mutation**\n",
        "\n",
        "We now add a random chance of swapping each component of the new population.\n",
        "\n",
        "***MutateChild:***\n",
        "\n",
        "This function will take in a child as its parameter in order to mutate it based on the mutation rate, which is set at 0.3. To do this it will use a loop which will get the integer value (by the “int” function) of  “n_cities” (7, the number of cities) multiplied by the “mutation rate” (0.3)\n",
        "\n",
        "Next 2 random cities will be picked from each child and stored in variables “a” and “b” using the “np.random.randint(0, n_cities)” expression, next the 2 cities will be swapped with each other using indexing.\n",
        "\n",
        "***MutatePopulation:***\n",
        "\n",
        "This function is created to ensure that the entire population is mutated at the mutation rate. It will take the “new_population_set” (this is the list of children created from the mating/crossover process) as its parameter.\n",
        "\n",
        "It will iterate through each child in the “new_population_set” list, and mutate each child by calling the “MutateChild” function, and finally, append each mutated child into a list named “mutated_pop” which represents the mutated population.\n"
      ]
    },
    {
      "cell_type": "code",
      "execution_count": null,
      "metadata": {
        "colab": {
          "base_uri": "https://localhost:8080/"
        },
        "id": "w8mWr4cOI53x",
        "outputId": "97e75716-e979-493d-a578-2098bf9db0a4"
      },
      "outputs": [
        {
          "data": {
            "text/plain": [
              "array(['City_C', 'City_E', 'City_D', 'City_A', 'City_B', 'City_F',\n",
              "       'City_G'], dtype='<U6')"
            ]
          },
          "execution_count": 12,
          "metadata": {},
          "output_type": "execute_result"
        }
      ],
      "source": [
        "def MutateChild(child):\n",
        "  for q in range(int(n_cities*mutation_rate)):\n",
        "    a = np.random.randint(0, n_cities)\n",
        "    b = np.random.randint(0, n_cities)\n",
        "    child[a], child[b] = child[b], child[a]\n",
        "  return child\n",
        "\n",
        "def MutatePopulation(new_population_set):\n",
        "  mutated_pop = []\n",
        "  for child in new_population_set:\n",
        "    mutated_pop.append(MutateChild(child))\n",
        "  return mutated_pop\n",
        "\n",
        "mutated_pop = MutatePopulation(new_population_set)\n",
        "mutated_pop[0]"
      ]
    },
    {
      "cell_type": "markdown",
      "metadata": {
        "id": "3CkVZpsbFBXn"
      },
      "source": [
        "**Termination**\n",
        "\n",
        "Termination criteria: The generational process will be repeated for 1000 times.\n",
        "\n",
        "Once the fixed number of generations are reached, the best solution will be computed by identifying the minimum distance/fitness from all the solutions generated by each generation.\n",
        "\n",
        "To do this, initially a list with the name of “best_solution” will be created, which is supposed to capture;\n",
        "\n",
        "\n",
        "*   First, the generation number which contains the best fitness value (lowest distance solution/combination): to do this, initially index 0 of the “best_solution” list is set with a value of 0\n",
        "*   Secondly, the minimum distance value (the best fitness value): to do this “np.inf”, is used to generate infinity, which can be replaced with any value lower than infinity\n",
        "*   Thirdly, the list containing the solution combination of cities with the best fitness (minimum value): the “np.array([])” is used to capture the list of cities with the best combination.\n",
        "\n",
        "\n",
        "\n",
        "\n",
        "Next a “for” loop is used to run the generational process for a fixed number of times, under the “for” loop the below operations will take place to determine the best solution:\n",
        "1.\tA list (fitness_lst) is created using the “GetAllFitness” function by pasing in the “mutated_pop” and “cities_dict” as it’s parameters: This is supposed to create a list with all the distance/fitness values of the mutated population.\n",
        "2.\tNext, a program is written with an “if” condition to save the best solution, it will check whether the value at index 1 of the “best_solution” list is less than the minimum distance value in each generation using the “.min” function. If the value is less (the if condition is met);\n",
        "a.\tIt will store the generation number containing the best solution at index 0 in the “best_solution” list\n",
        "b.\tIt will store the minimum distance/fitness value at index 1 in the “best_solution” list\n",
        "c.\tFinally, it will store the list of cities with the minimum distance/fitness value at index 2 in the “best_solution” list.\n",
        "3.\tThen, another “if” condition is used to print out every 10th iteration, this is done so that the user know that the algorithm is running (till it finishes all 1000 iterations; for aesthetic purposes)\n",
        "4.\tNext, a new parent list is created (parent_lst), by calling the function “ParentSelection”  and passing “population_set” and “fitness_lst” as the parameters.\n",
        "5.\tThe new population list (new_population_set) is created with the mating process by calling the finction “CrossoverPopulation” and passing the “parent_lst” as it’s parameter.\n",
        "6.\tFinally, a mutated population (mutated_pop) list is created using the MutatePopulation function by passing the “new_population_set” list into it.\n",
        "\n",
        "The above process will be repeated 1000 times as defined by the termination criteria.\n",
        "\n",
        "\n"
      ]
    },
    {
      "cell_type": "code",
      "execution_count": null,
      "metadata": {
        "colab": {
          "base_uri": "https://localhost:8080/"
        },
        "id": "7GszpaqUN-YK",
        "outputId": "f798efc5-734b-4d33-e6d4-c9d35b71ba7d"
      },
      "outputs": [
        {
          "name": "stdout",
          "output_type": "stream",
          "text": [
            "0 222.8019404713355 296.3002786138893\n",
            "10 177.3828132239188 290.6540352685448\n",
            "20 190.20059772897696 289.80291075071693\n",
            "30 192.67870236706688 298.0258506169884\n",
            "40 184.38992289528727 287.807272779498\n",
            "50 201.16875743827944 290.54174682103496\n",
            "60 209.01726194622 295.6477274045848\n",
            "70 171.54534556745858 286.86337308039026\n",
            "80 218.65144497794356 295.3865693175004\n",
            "90 201.16875743827944 289.2906626339402\n",
            "100 205.496486872125 293.96601187413205\n",
            "110 185.4049118650812 303.2921205231611\n",
            "120 199.67743449422446 296.8029815982402\n",
            "130 200.15419247467577 295.13162681103944\n",
            "140 185.4049118650812 293.9500289342338\n",
            "150 190.20059772897696 294.40818585620303\n",
            "160 177.3828132239188 289.1412981808336\n",
            "170 198.6467067658517 287.19585448267514\n",
            "180 216.86234188639258 290.60000375530615\n",
            "190 203.56979081039435 290.60846778473035\n",
            "200 177.3828132239188 288.89016074261826\n",
            "210 205.1923178269263 296.4460006811086\n",
            "220 192.67870236706688 296.36373862560254\n",
            "230 177.3828132239188 290.0226302298377\n",
            "240 181.5882443593959 292.38934258935717\n",
            "250 203.60702931079288 297.4360738800793\n",
            "260 177.3828132239188 292.8760484121204\n",
            "270 192.7651015683373 294.12024544240904\n",
            "280 190.20059772897696 293.1005615170634\n",
            "290 181.2050206786323 295.6729710946481\n",
            "300 209.01726194622 297.4845183059846\n",
            "310 201.19461659199214 292.3620939766841\n",
            "320 210.17458699707163 290.88216858702066\n",
            "330 217.82657468095871 292.87040661215406\n",
            "340 171.54534556745858 294.36483284835094\n",
            "350 200.15419247467574 284.6756134901739\n",
            "360 224.78210553988845 300.9777655034674\n",
            "370 171.54534556745858 294.76465373572034\n",
            "380 201.16875743827947 293.9189695610523\n",
            "390 188.97786258554788 298.09792094524835\n",
            "400 203.56979081039438 287.23581290786876\n",
            "410 215.5393856640623 292.23796672961873\n",
            "420 209.3462786745283 295.13873086284383\n",
            "430 192.67870236706688 297.71182577039735\n",
            "440 171.54534556745858 292.77667815631116\n",
            "450 192.67870236706688 296.6440774478059\n",
            "460 204.2387832567718 295.8564409944051\n",
            "470 200.15419247467574 299.7984875808714\n",
            "480 171.54534556745858 294.691697676443\n",
            "490 170.28764195210542 291.10719795083946\n",
            "500 190.20059772897696 293.4735292730737\n",
            "510 171.54534556745858 299.6637259978468\n",
            "520 174.10430945779072 300.2606060223572\n",
            "530 200.98591909235324 293.853489996051\n",
            "540 203.72841063371106 298.5050614909251\n",
            "550 210.65476327265708 290.22068285341646\n",
            "560 214.86755788683612 295.52172804921054\n",
            "570 215.5393856640623 293.15362829475026\n",
            "580 171.54534556745858 297.4793771470907\n",
            "590 215.38491701834815 299.1657066078007\n",
            "600 204.41675730904564 299.7472017587033\n",
            "610 203.56979081039438 290.06752684510593\n",
            "620 207.10454830277268 293.12023472795374\n",
            "630 185.4049118650812 297.881656159273\n",
            "640 181.2050206786323 293.7736709836317\n",
            "650 185.4049118650812 291.3226318222723\n",
            "660 215.05323156361106 297.16562590478696\n",
            "670 202.04977338177798 296.42294628855063\n",
            "680 190.49504468331554 290.77639953828134\n",
            "690 174.1043094577907 288.885074208118\n",
            "700 207.10454830277268 291.509486115049\n",
            "710 158.72756106240047 299.8611401333193\n",
            "720 198.6467067658517 298.30527551528803\n",
            "730 171.54534556745858 286.35943221954636\n",
            "740 195.08949480396387 286.9460744313102\n",
            "750 174.1043094577907 292.54501416373665\n",
            "760 215.05323156361106 294.6459019875477\n",
            "770 177.3828132239188 299.75293989938336\n",
            "780 199.67743449422446 294.13093836675256\n",
            "790 190.20059772897696 291.7062222073962\n",
            "800 183.32323327501388 292.01587658795256\n",
            "810 203.60702931079288 291.0977730145988\n",
            "820 202.04977338177798 291.3556323185127\n",
            "830 208.52409649760682 296.1355076070951\n",
            "840 184.3899228952873 294.47761900696327\n",
            "850 205.1923178269263 297.5637619741088\n",
            "860 181.58824435939587 294.3442024764165\n",
            "870 185.4049118650812 299.7047054918953\n",
            "880 198.6467067658517 290.9968309693087\n",
            "890 171.54534556745858 294.9270710865189\n",
            "900 158.72756106240047 289.4533155802915\n",
            "910 211.81196629788147 296.2062095983547\n",
            "920 190.20059772897696 289.841876102594\n",
            "930 201.16875743827947 288.70030758178456\n",
            "940 192.67870236706688 293.83271539938613\n",
            "950 195.08949480396387 290.4674974992728\n",
            "960 193.36613206695114 294.93295915961573\n",
            "970 214.86755788683612 297.3958498300453\n",
            "980 177.3828132239188 289.86581044735334\n",
            "990 200.98591909235324 298.0594337337874\n"
          ]
        }
      ],
      "source": [
        "best_solution = [0,np.inf,np.array([])]\n",
        "for i in range(1000):\n",
        "  fitness_lst = GetAllFitness(mutated_pop, cities_dict)\n",
        "\n",
        "  #Saving the best solution\n",
        "  if fitness_lst.min() < best_solution[1]:\n",
        "    best_solution[0] = i\n",
        "    best_solution[1] = fitness_lst.min()\n",
        "    best_solution[2] = np.array(mutated_pop)[fitness_lst.min() == fitness_lst]\n",
        "\n",
        "  if i%10==0:\n",
        "    print(i, fitness_lst.min(), fitness_lst.mean())\n",
        "\n",
        "  parent_lst = ParentSelection(population_set, fitness_lst)\n",
        "  new_population_set = CrossoverPopulation(parent_lst)\n",
        "\n",
        "  mutated_pop = MutatePopulation(new_population_set)"
      ]
    },
    {
      "cell_type": "code",
      "execution_count": null,
      "metadata": {
        "colab": {
          "base_uri": "https://localhost:8080/"
        },
        "id": "it4aibkCF6a_",
        "outputId": "fdde3e69-5bee-4945-9eca-cb7c0d834647"
      },
      "outputs": [
        {
          "data": {
            "text/plain": [
              "[594,\n",
              " 158.72756106240044,\n",
              " array([['City_D', 'City_A', 'City_G', 'City_B', 'City_F', 'City_C',\n",
              "         'City_E']], dtype='<U6')]"
            ]
          },
          "execution_count": 15,
          "metadata": {},
          "output_type": "execute_result"
        }
      ],
      "source": [
        "#Printing the best solution\n",
        "best_solution"
      ]
    },
    {
      "cell_type": "code",
      "execution_count": null,
      "metadata": {
        "id": "Yh7QN_BEGQ3b"
      },
      "outputs": [],
      "source": []
    },
    {
      "cell_type": "code",
      "execution_count": null,
      "metadata": {
        "id": "2H9AF948IQ68"
      },
      "outputs": [],
      "source": []
    }
  ],
  "metadata": {
    "colab": {
      "provenance": []
    },
    "kernelspec": {
      "display_name": "Python 3",
      "name": "python3"
    },
    "language_info": {
      "name": "python"
    }
  },
  "nbformat": 4,
  "nbformat_minor": 0
}
